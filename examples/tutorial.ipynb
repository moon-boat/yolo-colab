{
  "nbformat": 4,
  "nbformat_minor": 0,
  "metadata": {
    "colab": {
      "name": "YOLO11 Tutorial",
      "provenance": [],
      "gpuType": "T4"
    },
    "kernelspec": {
      "name": "python3",
      "display_name": "Python 3"
    },
    "accelerator": "GPU"
  },
  "cells": [
    {
      "cell_type": "code",
      "source": [
        "from google.colab import drive\n",
        "drive.mount('/content/gdrive')"
      ],
      "metadata": {
        "colab": {
          "base_uri": "https://localhost:8080/"
        },
        "id": "wy1nQDPgcPZv",
        "outputId": "a883191a-4389-42ee-f105-b4bc4d569b62"
      },
      "execution_count": 4,
      "outputs": [
        {
          "output_type": "stream",
          "name": "stdout",
          "text": [
            "Mounted at /content/gdrive\n"
          ]
        }
      ]
    },
    {
      "cell_type": "code",
      "source": [
        "import os\n",
        "project_path = '/content/gdrive/MyDrive/Colab Notebooks/TensorRT Colab Test'\n",
        "os.chdir(project_path)"
      ],
      "metadata": {
        "id": "6jmPdT0ldU6A"
      },
      "execution_count": 5,
      "outputs": []
    },
    {
      "cell_type": "code",
      "source": [
        "# !tar -xzf /content/gdrive/MyDrive/TensorRT-10.10.0.31.Linux.x86_64-gnu.cuda-11.8.tar.gz -C /content/gdrive/MyDrive/"
      ],
      "metadata": {
        "id": "yGqk6OtMgbjE"
      },
      "execution_count": null,
      "outputs": []
    },
    {
      "cell_type": "code",
      "source": [
        "# 查看Python版本\n",
        "!python --version\n",
        "\n",
        "# 安装TensorRT wheel文件（针对Python 3.12）\n",
        "!pip install /content/gdrive/MyDrive/TensorRT-10.10.0.31/python/tensorrt-10.10.0.31-cp312-none-linux_x86_64.whl"
      ],
      "metadata": {
        "colab": {
          "base_uri": "https://localhost:8080/"
        },
        "id": "KtXLg9ULhf4H",
        "outputId": "d8cb8ee2-2c9d-4269-87fb-a8cc892a92fa"
      },
      "execution_count": 7,
      "outputs": [
        {
          "output_type": "stream",
          "name": "stdout",
          "text": [
            "Python 3.12.11\n",
            "Processing /content/gdrive/MyDrive/TensorRT-10.10.0.31/python/tensorrt-10.10.0.31-cp312-none-linux_x86_64.whl\n",
            "Installing collected packages: tensorrt\n",
            "Successfully installed tensorrt-10.10.0.31\n"
          ]
        }
      ]
    },
    {
      "cell_type": "code",
      "source": [
        "# # 设置并持久化 LD_LIBRARY_PATH 环境变量\n",
        "# import os\n",
        "# os.environ['LD_LIBRARY_PATH'] = os.environ.get('LD_LIBRARY_PATH', '') + ':/content/gdrive/MyDrive/TensorRT-10.10.0.31/lib'\n",
        "\n",
        "# # 验证 LD_LIBRARY_PATH\n",
        "# print(os.environ['LD_LIBRARY_PATH'])\n",
        "!mkdir -p /content/lib\n",
        "!cp -r /content/gdrive/MyDrive/TensorRT-10.10.0.31/targets/x86_64-linux-gnu/lib/* /content/lib/\n",
        "# 更新 LD_LIBRARY_PATH\n",
        "import os\n",
        "os.environ['LD_LIBRARY_PATH'] = os.environ.get('LD_LIBRARY_PATH', '') + ':/content/lib'\n",
        "print(os.environ['LD_LIBRARY_PATH'])\n",
        "# 更新缓存\n",
        "!sudo ldconfig /content/lib\n",
        "!ldconfig -p | grep libnvinfer"
      ],
      "metadata": {
        "colab": {
          "base_uri": "https://localhost:8080/"
        },
        "id": "CWkEekedmMOt",
        "outputId": "7d3800b3-455c-4583-b1b8-031437820a60"
      },
      "execution_count": 8,
      "outputs": [
        {
          "output_type": "stream",
          "name": "stdout",
          "text": [
            "/usr/lib64-nvidia:/content/lib\n",
            "/sbin/ldconfig.real: /usr/local/lib/libur_adapter_level_zero.so.0 is not a symbolic link\n",
            "\n",
            "/sbin/ldconfig.real: /usr/local/lib/libtbbmalloc.so.2 is not a symbolic link\n",
            "\n",
            "/sbin/ldconfig.real: /usr/local/lib/libhwloc.so.15 is not a symbolic link\n",
            "\n",
            "/sbin/ldconfig.real: /usr/local/lib/libtcm.so.1 is not a symbolic link\n",
            "\n",
            "/sbin/ldconfig.real: /usr/local/lib/libur_adapter_level_zero_v2.so.0 is not a symbolic link\n",
            "\n",
            "/sbin/ldconfig.real: /usr/local/lib/libtcm_debug.so.1 is not a symbolic link\n",
            "\n",
            "/sbin/ldconfig.real: /usr/local/lib/libur_loader.so.0 is not a symbolic link\n",
            "\n",
            "/sbin/ldconfig.real: /usr/local/lib/libtbbmalloc_proxy.so.2 is not a symbolic link\n",
            "\n",
            "/sbin/ldconfig.real: /usr/local/lib/libur_adapter_opencl.so.0 is not a symbolic link\n",
            "\n",
            "/sbin/ldconfig.real: /usr/local/lib/libtbb.so.12 is not a symbolic link\n",
            "\n",
            "/sbin/ldconfig.real: /usr/local/lib/libtbbbind.so.3 is not a symbolic link\n",
            "\n",
            "/sbin/ldconfig.real: /usr/local/lib/libtbbbind_2_5.so.3 is not a symbolic link\n",
            "\n",
            "/sbin/ldconfig.real: /usr/local/lib/libumf.so.0 is not a symbolic link\n",
            "\n",
            "/sbin/ldconfig.real: /usr/local/lib/libtbbbind_2_0.so.3 is not a symbolic link\n",
            "\n",
            "\tlibnvinfer_vc_plugin.so.10 (libc6,x86-64) => /content/lib/libnvinfer_vc_plugin.so.10\n",
            "\tlibnvinfer_vc_plugin.so (libc6,x86-64) => /content/lib/libnvinfer_vc_plugin.so\n",
            "\tlibnvinfer_plugin.so.10 (libc6,x86-64) => /content/lib/libnvinfer_plugin.so.10\n",
            "\tlibnvinfer_plugin.so (libc6,x86-64) => /content/lib/libnvinfer_plugin.so\n",
            "\tlibnvinfer_lean.so.10 (libc6,x86-64) => /content/lib/libnvinfer_lean.so.10\n",
            "\tlibnvinfer_lean.so (libc6,x86-64) => /content/lib/libnvinfer_lean.so\n",
            "\tlibnvinfer_dispatch.so.10 (libc6,x86-64) => /content/lib/libnvinfer_dispatch.so.10\n",
            "\tlibnvinfer_dispatch.so (libc6,x86-64) => /content/lib/libnvinfer_dispatch.so\n",
            "\tlibnvinfer.so.10 (libc6,x86-64) => /content/lib/libnvinfer.so.10\n",
            "\tlibnvinfer.so (libc6,x86-64) => /content/lib/libnvinfer.so\n"
          ]
        }
      ]
    },
    {
      "cell_type": "code",
      "source": [
        "# ! git clone https://github.com/XuRuihan/ultralytics.git"
      ],
      "metadata": {
        "colab": {
          "base_uri": "https://localhost:8080/"
        },
        "id": "HWwb_w7ijV1Z",
        "outputId": "852c9dee-9d19-4970-a265-8b4daa0dd880"
      },
      "execution_count": 43,
      "outputs": [
        {
          "output_type": "stream",
          "name": "stdout",
          "text": [
            "fatal: destination path 'ultralytics' already exists and is not an empty directory.\n"
          ]
        }
      ]
    },
    {
      "cell_type": "code",
      "source": [
        "%cd ultralytics\n",
        "!git checkout convnext\n",
        "!pip uninstall ultralytics\n",
        "!pip install -e ."
      ],
      "metadata": {
        "colab": {
          "base_uri": "https://localhost:8080/"
        },
        "id": "1f4p1H60kTSL",
        "outputId": "0abefcba-1c0b-4f41-f59c-6e832ed86988"
      },
      "execution_count": 9,
      "outputs": [
        {
          "output_type": "stream",
          "name": "stdout",
          "text": [
            "/content/gdrive/MyDrive/Colab Notebooks/TensorRT Colab Test/ultralytics\n",
            "^C\n",
            "\u001b[33mWARNING: Skipping ultralytics as it is not installed.\u001b[0m\u001b[33m\n",
            "\u001b[0mObtaining file:///content/gdrive/MyDrive/Colab%20Notebooks/TensorRT%20Colab%20Test/ultralytics\n",
            "  Installing build dependencies ... \u001b[?25l\u001b[?25hdone\n",
            "  Checking if build backend supports build_editable ... \u001b[?25l\u001b[?25hdone\n",
            "  Getting requirements to build editable ... \u001b[?25l\u001b[?25hdone\n",
            "  Preparing editable metadata (pyproject.toml) ... \u001b[?25l\u001b[?25hdone\n",
            "Requirement already satisfied: numpy>=1.23.0 in /usr/local/lib/python3.12/dist-packages (from ultralytics==8.3.180) (2.0.2)\n",
            "Requirement already satisfied: matplotlib>=3.3.0 in /usr/local/lib/python3.12/dist-packages (from ultralytics==8.3.180) (3.10.0)\n",
            "Requirement already satisfied: opencv-python>=4.6.0 in /usr/local/lib/python3.12/dist-packages (from ultralytics==8.3.180) (4.12.0.88)\n",
            "Requirement already satisfied: pillow>=7.1.2 in /usr/local/lib/python3.12/dist-packages (from ultralytics==8.3.180) (11.3.0)\n",
            "Requirement already satisfied: pyyaml>=5.3.1 in /usr/local/lib/python3.12/dist-packages (from ultralytics==8.3.180) (6.0.2)\n",
            "Requirement already satisfied: requests>=2.23.0 in /usr/local/lib/python3.12/dist-packages (from ultralytics==8.3.180) (2.32.4)\n",
            "Requirement already satisfied: scipy>=1.4.1 in /usr/local/lib/python3.12/dist-packages (from ultralytics==8.3.180) (1.16.1)\n",
            "Requirement already satisfied: torch>=1.8.0 in /usr/local/lib/python3.12/dist-packages (from ultralytics==8.3.180) (2.8.0+cu126)\n",
            "Requirement already satisfied: torchvision>=0.9.0 in /usr/local/lib/python3.12/dist-packages (from ultralytics==8.3.180) (0.23.0+cu126)\n",
            "Requirement already satisfied: tqdm>=4.64.0 in /usr/local/lib/python3.12/dist-packages (from ultralytics==8.3.180) (4.67.1)\n",
            "Requirement already satisfied: psutil in /usr/local/lib/python3.12/dist-packages (from ultralytics==8.3.180) (5.9.5)\n",
            "Requirement already satisfied: py-cpuinfo in /usr/local/lib/python3.12/dist-packages (from ultralytics==8.3.180) (9.0.0)\n",
            "Requirement already satisfied: pandas>=1.1.4 in /usr/local/lib/python3.12/dist-packages (from ultralytics==8.3.180) (2.2.2)\n",
            "Collecting ultralytics-thop>=2.0.0 (from ultralytics==8.3.180)\n",
            "  Downloading ultralytics_thop-2.0.16-py3-none-any.whl.metadata (14 kB)\n",
            "Requirement already satisfied: contourpy>=1.0.1 in /usr/local/lib/python3.12/dist-packages (from matplotlib>=3.3.0->ultralytics==8.3.180) (1.3.3)\n",
            "Requirement already satisfied: cycler>=0.10 in /usr/local/lib/python3.12/dist-packages (from matplotlib>=3.3.0->ultralytics==8.3.180) (0.12.1)\n",
            "Requirement already satisfied: fonttools>=4.22.0 in /usr/local/lib/python3.12/dist-packages (from matplotlib>=3.3.0->ultralytics==8.3.180) (4.59.1)\n",
            "Requirement already satisfied: kiwisolver>=1.3.1 in /usr/local/lib/python3.12/dist-packages (from matplotlib>=3.3.0->ultralytics==8.3.180) (1.4.9)\n",
            "Requirement already satisfied: packaging>=20.0 in /usr/local/lib/python3.12/dist-packages (from matplotlib>=3.3.0->ultralytics==8.3.180) (25.0)\n",
            "Requirement already satisfied: pyparsing>=2.3.1 in /usr/local/lib/python3.12/dist-packages (from matplotlib>=3.3.0->ultralytics==8.3.180) (3.2.3)\n",
            "Requirement already satisfied: python-dateutil>=2.7 in /usr/local/lib/python3.12/dist-packages (from matplotlib>=3.3.0->ultralytics==8.3.180) (2.9.0.post0)\n",
            "Requirement already satisfied: pytz>=2020.1 in /usr/local/lib/python3.12/dist-packages (from pandas>=1.1.4->ultralytics==8.3.180) (2025.2)\n",
            "Requirement already satisfied: tzdata>=2022.7 in /usr/local/lib/python3.12/dist-packages (from pandas>=1.1.4->ultralytics==8.3.180) (2025.2)\n",
            "Requirement already satisfied: charset_normalizer<4,>=2 in /usr/local/lib/python3.12/dist-packages (from requests>=2.23.0->ultralytics==8.3.180) (3.4.3)\n",
            "Requirement already satisfied: idna<4,>=2.5 in /usr/local/lib/python3.12/dist-packages (from requests>=2.23.0->ultralytics==8.3.180) (3.10)\n",
            "Requirement already satisfied: urllib3<3,>=1.21.1 in /usr/local/lib/python3.12/dist-packages (from requests>=2.23.0->ultralytics==8.3.180) (2.5.0)\n",
            "Requirement already satisfied: certifi>=2017.4.17 in /usr/local/lib/python3.12/dist-packages (from requests>=2.23.0->ultralytics==8.3.180) (2025.8.3)\n",
            "Requirement already satisfied: filelock in /usr/local/lib/python3.12/dist-packages (from torch>=1.8.0->ultralytics==8.3.180) (3.19.1)\n",
            "Requirement already satisfied: typing-extensions>=4.10.0 in /usr/local/lib/python3.12/dist-packages (from torch>=1.8.0->ultralytics==8.3.180) (4.15.0)\n",
            "Requirement already satisfied: setuptools in /usr/local/lib/python3.12/dist-packages (from torch>=1.8.0->ultralytics==8.3.180) (75.2.0)\n",
            "Requirement already satisfied: sympy>=1.13.3 in /usr/local/lib/python3.12/dist-packages (from torch>=1.8.0->ultralytics==8.3.180) (1.13.3)\n",
            "Requirement already satisfied: networkx in /usr/local/lib/python3.12/dist-packages (from torch>=1.8.0->ultralytics==8.3.180) (3.5)\n",
            "Requirement already satisfied: jinja2 in /usr/local/lib/python3.12/dist-packages (from torch>=1.8.0->ultralytics==8.3.180) (3.1.6)\n",
            "Requirement already satisfied: fsspec in /usr/local/lib/python3.12/dist-packages (from torch>=1.8.0->ultralytics==8.3.180) (2025.3.0)\n",
            "Requirement already satisfied: nvidia-cuda-nvrtc-cu12==12.6.77 in /usr/local/lib/python3.12/dist-packages (from torch>=1.8.0->ultralytics==8.3.180) (12.6.77)\n",
            "Requirement already satisfied: nvidia-cuda-runtime-cu12==12.6.77 in /usr/local/lib/python3.12/dist-packages (from torch>=1.8.0->ultralytics==8.3.180) (12.6.77)\n",
            "Requirement already satisfied: nvidia-cuda-cupti-cu12==12.6.80 in /usr/local/lib/python3.12/dist-packages (from torch>=1.8.0->ultralytics==8.3.180) (12.6.80)\n",
            "Requirement already satisfied: nvidia-cudnn-cu12==9.10.2.21 in /usr/local/lib/python3.12/dist-packages (from torch>=1.8.0->ultralytics==8.3.180) (9.10.2.21)\n",
            "Requirement already satisfied: nvidia-cublas-cu12==12.6.4.1 in /usr/local/lib/python3.12/dist-packages (from torch>=1.8.0->ultralytics==8.3.180) (12.6.4.1)\n",
            "Requirement already satisfied: nvidia-cufft-cu12==11.3.0.4 in /usr/local/lib/python3.12/dist-packages (from torch>=1.8.0->ultralytics==8.3.180) (11.3.0.4)\n",
            "Requirement already satisfied: nvidia-curand-cu12==10.3.7.77 in /usr/local/lib/python3.12/dist-packages (from torch>=1.8.0->ultralytics==8.3.180) (10.3.7.77)\n",
            "Requirement already satisfied: nvidia-cusolver-cu12==11.7.1.2 in /usr/local/lib/python3.12/dist-packages (from torch>=1.8.0->ultralytics==8.3.180) (11.7.1.2)\n",
            "Requirement already satisfied: nvidia-cusparse-cu12==12.5.4.2 in /usr/local/lib/python3.12/dist-packages (from torch>=1.8.0->ultralytics==8.3.180) (12.5.4.2)\n",
            "Requirement already satisfied: nvidia-cusparselt-cu12==0.7.1 in /usr/local/lib/python3.12/dist-packages (from torch>=1.8.0->ultralytics==8.3.180) (0.7.1)\n",
            "Requirement already satisfied: nvidia-nccl-cu12==2.27.3 in /usr/local/lib/python3.12/dist-packages (from torch>=1.8.0->ultralytics==8.3.180) (2.27.3)\n",
            "Requirement already satisfied: nvidia-nvtx-cu12==12.6.77 in /usr/local/lib/python3.12/dist-packages (from torch>=1.8.0->ultralytics==8.3.180) (12.6.77)\n",
            "Requirement already satisfied: nvidia-nvjitlink-cu12==12.6.85 in /usr/local/lib/python3.12/dist-packages (from torch>=1.8.0->ultralytics==8.3.180) (12.6.85)\n",
            "Requirement already satisfied: nvidia-cufile-cu12==1.11.1.6 in /usr/local/lib/python3.12/dist-packages (from torch>=1.8.0->ultralytics==8.3.180) (1.11.1.6)\n",
            "Requirement already satisfied: triton==3.4.0 in /usr/local/lib/python3.12/dist-packages (from torch>=1.8.0->ultralytics==8.3.180) (3.4.0)\n",
            "Requirement already satisfied: six>=1.5 in /usr/local/lib/python3.12/dist-packages (from python-dateutil>=2.7->matplotlib>=3.3.0->ultralytics==8.3.180) (1.17.0)\n",
            "Requirement already satisfied: mpmath<1.4,>=1.1.0 in /usr/local/lib/python3.12/dist-packages (from sympy>=1.13.3->torch>=1.8.0->ultralytics==8.3.180) (1.3.0)\n",
            "Requirement already satisfied: MarkupSafe>=2.0 in /usr/local/lib/python3.12/dist-packages (from jinja2->torch>=1.8.0->ultralytics==8.3.180) (3.0.2)\n",
            "Downloading ultralytics_thop-2.0.16-py3-none-any.whl (28 kB)\n",
            "Building wheels for collected packages: ultralytics\n",
            "  Building editable for ultralytics (pyproject.toml) ... \u001b[?25l\u001b[?25hdone\n",
            "  Created wheel for ultralytics: filename=ultralytics-8.3.180-0.editable-py3-none-any.whl size=23217 sha256=6db8462a4d498c6740f7fef6990b830b0f869daaf6658cad6d3c893585cdb221\n",
            "  Stored in directory: /tmp/pip-ephem-wheel-cache-re86267m/wheels/26/4e/54/7c6b2529206c7d003796ff677850281635f80963fec2c7863d\n",
            "Successfully built ultralytics\n",
            "Installing collected packages: ultralytics-thop, ultralytics\n",
            "Successfully installed ultralytics-8.3.180 ultralytics-thop-2.0.16\n"
          ]
        }
      ]
    },
    {
      "cell_type": "code",
      "metadata": {
        "id": "wbvMlHd_QwMG",
        "colab": {
          "base_uri": "https://localhost:8080/"
        },
        "outputId": "509560ad-15e0-4c89-a285-998586239788"
      },
      "source": [
        "import ultralytics\n",
        "import os\n",
        "os.chdir(project_path)"
      ],
      "execution_count": 10,
      "outputs": [
        {
          "output_type": "stream",
          "name": "stdout",
          "text": [
            "Creating new Ultralytics Settings v0.0.6 file ✅ \n",
            "View Ultralytics Settings with 'yolo settings' or at '/root/.config/Ultralytics/settings.json'\n",
            "Update Settings with 'yolo settings key=value', i.e. 'yolo settings runs_dir=path/to/dir'. For help see https://docs.ultralytics.com/quickstart/#ultralytics-settings.\n"
          ]
        }
      ]
    },
    {
      "cell_type": "code",
      "source": [
        "!yolo export model=yolo11n.pt format=engine half=True"
      ],
      "metadata": {
        "colab": {
          "base_uri": "https://localhost:8080/"
        },
        "id": "CYIjW4igCjqD",
        "outputId": "54cf4ec3-22ac-42f7-9be0-3274dc008aa0"
      },
      "execution_count": 26,
      "outputs": [
        {
          "output_type": "stream",
          "name": "stdout",
          "text": [
            "WARNING ⚠️ TensorRT requires GPU export, automatically assigning device=0\n",
            "Ultralytics 8.3.180 🚀 Python-3.12.11 torch-2.8.0+cu126 CUDA:0 (Tesla T4, 15095MiB)\n",
            "YOLO11n summary (fused): 100 layers, 2,616,248 parameters, 0 gradients, 6.48 GFLOPs\n",
            "\n",
            "\u001b[34m\u001b[1mPyTorch:\u001b[0m starting from 'yolo11n.pt' with input shape (1, 3, 640, 640) BCHW and output shape(s) (1, 84, 8400) (5.4 MB)\n",
            "\n",
            "\u001b[34m\u001b[1mONNX:\u001b[0m starting export with onnx 1.17.0 opset 19...\n",
            "\u001b[34m\u001b[1mONNX:\u001b[0m slimming with onnxslim 0.1.65...\n",
            "\u001b[34m\u001b[1mONNX:\u001b[0m export success ✅ 1.7s, saved as 'yolo11n.onnx' (10.2 MB)\n",
            "ERROR ❌ \u001b[34m\u001b[1mTensorRT:\u001b[0m export failure 1.7s: generic_type: type \"FallbackString\" is already registered!\n",
            "KeyboardInterrupt\n",
            "\n",
            "The above exception was the direct cause of the following exception:\n",
            "\n",
            "Traceback (most recent call last):\n",
            "  File \"/content/gdrive/MyDrive/Colab Notebooks/TensorRT Colab Test/ultralytics/ultralytics/engine/exporter.py\", line 919, in export_engine\n",
            "    import tensorrt as trt  # noqa\n",
            "    ^^^^^^^^^^^^^^^^^^^^^^\n",
            "  File \"/usr/local/lib/python3.12/dist-packages/tensorrt/__init__.py\", line 83, in <module>\n",
            "    from .tensorrt import *\n",
            "ImportError: initialization failed\n",
            "\n",
            "During handling of the above exception, another exception occurred:\n",
            "\n",
            "Traceback (most recent call last):\n",
            "  File \"/usr/local/bin/yolo\", line 8, in <module>\n",
            "    sys.exit(entrypoint())\n",
            "             ^^^^^^^^^^^^\n",
            "  File \"/content/gdrive/MyDrive/Colab Notebooks/TensorRT Colab Test/ultralytics/ultralytics/cfg/__init__.py\", line 986, in entrypoint\n",
            "    getattr(model, mode)(**overrides)  # default args from model\n",
            "    ^^^^^^^^^^^^^^^^^^^^^^^^^^^^^^^^^\n",
            "  File \"/content/gdrive/MyDrive/Colab Notebooks/TensorRT Colab Test/ultralytics/ultralytics/engine/model.py\", line 734, in export\n",
            "    return Exporter(overrides=args, _callbacks=self.callbacks)(model=self.model)\n",
            "           ^^^^^^^^^^^^^^^^^^^^^^^^^^^^^^^^^^^^^^^^^^^^^^^^^^^^^^^^^^^^^^^^^^^^^\n",
            "  File \"/content/gdrive/MyDrive/Colab Notebooks/TensorRT Colab Test/ultralytics/ultralytics/engine/exporter.py\", line 488, in __call__\n",
            "    f[1], _ = self.export_engine(dla=dla)\n",
            "              ^^^^^^^^^^^^^^^^^^^^^^^^^^^\n",
            "  File \"/content/gdrive/MyDrive/Colab Notebooks/TensorRT Colab Test/ultralytics/ultralytics/engine/exporter.py\", line 199, in outer_func\n",
            "    raise e\n",
            "  File \"/content/gdrive/MyDrive/Colab Notebooks/TensorRT Colab Test/ultralytics/ultralytics/engine/exporter.py\", line 194, in outer_func\n",
            "    f, model = inner_func(*args, **kwargs)\n",
            "               ^^^^^^^^^^^^^^^^^^^^^^^^^^^\n",
            "  File \"/content/gdrive/MyDrive/Colab Notebooks/TensorRT Colab Test/ultralytics/ultralytics/engine/exporter.py\", line 923, in export_engine\n",
            "    import tensorrt as trt  # noqa\n",
            "    ^^^^^^^^^^^^^^^^^^^^^^\n",
            "  File \"/usr/local/lib/python3.12/dist-packages/tensorrt/__init__.py\", line 83, in <module>\n",
            "    from .tensorrt import *\n",
            "ImportError: generic_type: type \"FallbackString\" is already registered!\n"
          ]
        }
      ]
    },
    {
      "cell_type": "code",
      "source": [
        "# 定义模型列表（使用 .pt 文件）\n",
        "models = [\n",
        "    \"yolo147.yaml\",\n",
        "    \"yolo11n.yaml\",\n",
        "    \"yolo12n.yaml\",\n",
        "    \"yolo142n.yaml\",\n",
        "    \"yolo145n.yaml\",\n",
        "    \"yolo146n.yaml\",\n",
        "    \"yolo1471n.yaml\",\n",
        "    \"yolo1472n.yaml\",\n",
        "    \"yolo1473n.yaml\",\n",
        "    \"yolo148.yaml\",\n",
        "    \"yolo149.yaml\"\n",
        "]\n",
        "\n",
        "# 循环执行 yolo 导出命令\n",
        "for model in models:\n",
        "    print(f\"执行命令: !yolo export model={model} format=engine half=True\")\n",
        "    !yolo export model={model} format=engine half=True"
      ],
      "metadata": {
        "id": "-mMQys7b14zy",
        "outputId": "222bf6d3-cc5b-4f64-e959-877c9a97dcfc",
        "colab": {
          "base_uri": "https://localhost:8080/"
        }
      },
      "execution_count": null,
      "outputs": [
        {
          "output_type": "stream",
          "name": "stdout",
          "text": [
            "执行命令: !yolo export model=yolo147.yaml format=engine half=True\n",
            "WARNING ⚠️ no model scale passed. Assuming scale='n'.\n",
            "WARNING ⚠️ TensorRT requires GPU export, automatically assigning device=0\n",
            "Ultralytics 8.3.180 🚀 Python-3.12.11 torch-2.8.0+cu126 CUDA:0 (Tesla T4, 15095MiB)\n",
            "YOLO147 summary (fused): 137 layers, 2,766,976 parameters, 0 gradients, 6.34 GFLOPs\n",
            "\n",
            "\u001b[34m\u001b[1mPyTorch:\u001b[0m starting from 'yolo147.yaml' with input shape (1, 3, 640, 640) BCHW and output shape(s) (1, 84, 8400) (0.0 MB)\n",
            "\n",
            "\u001b[34m\u001b[1mONNX:\u001b[0m starting export with onnx 1.17.0 opset 19...\n",
            "\u001b[34m\u001b[1mONNX:\u001b[0m slimming with onnxslim 0.1.65...\n",
            "\u001b[34m\u001b[1mONNX:\u001b[0m export success ✅ 2.7s, saved as 'yolo147.onnx' (10.7 MB)\n",
            "\n",
            "\u001b[34m\u001b[1mTensorRT:\u001b[0m starting export with TensorRT 10.10.0.31...\n",
            "[08/31/2025-16:03:46] [TRT] [I] [MemUsageChange] Init CUDA: CPU -2, GPU +0, now: CPU 692, GPU 252 (MiB)\n",
            "[08/31/2025-16:03:46] [TRT] [E] createInferBuilder: Error Code 6: API Usage Error (Unable to load library: libnvinfer_builder_resource.so.10.10.0: libnvinfer_builder_resource.so.10.10.0: cannot open shared object file: No such file or directory)\n",
            "ERROR ❌ \u001b[34m\u001b[1mTensorRT:\u001b[0m export failure 3.0s: pybind11::init(): factory function returned nullptr\n",
            "Traceback (most recent call last):\n",
            "  File \"/usr/local/bin/yolo\", line 8, in <module>\n",
            "    sys.exit(entrypoint())\n",
            "             ^^^^^^^^^^^^\n",
            "  File \"/content/gdrive/MyDrive/Colab Notebooks/TensorRT Colab Test/ultralytics/ultralytics/cfg/__init__.py\", line 986, in entrypoint\n",
            "    getattr(model, mode)(**overrides)  # default args from model\n",
            "    ^^^^^^^^^^^^^^^^^^^^^^^^^^^^^^^^^\n",
            "  File \"/content/gdrive/MyDrive/Colab Notebooks/TensorRT Colab Test/ultralytics/ultralytics/engine/model.py\", line 734, in export\n",
            "    return Exporter(overrides=args, _callbacks=self.callbacks)(model=self.model)\n",
            "           ^^^^^^^^^^^^^^^^^^^^^^^^^^^^^^^^^^^^^^^^^^^^^^^^^^^^^^^^^^^^^^^^^^^^^\n",
            "  File \"/content/gdrive/MyDrive/Colab Notebooks/TensorRT Colab Test/ultralytics/ultralytics/engine/exporter.py\", line 488, in __call__\n",
            "    f[1], _ = self.export_engine(dla=dla)\n",
            "              ^^^^^^^^^^^^^^^^^^^^^^^^^^^\n",
            "  File \"/content/gdrive/MyDrive/Colab Notebooks/TensorRT Colab Test/ultralytics/ultralytics/engine/exporter.py\", line 199, in outer_func\n",
            "    raise e\n",
            "  File \"/content/gdrive/MyDrive/Colab Notebooks/TensorRT Colab Test/ultralytics/ultralytics/engine/exporter.py\", line 194, in outer_func\n",
            "    f, model = inner_func(*args, **kwargs)\n",
            "               ^^^^^^^^^^^^^^^^^^^^^^^^^^^\n",
            "  File \"/content/gdrive/MyDrive/Colab Notebooks/TensorRT Colab Test/ultralytics/ultralytics/engine/exporter.py\", line 931, in export_engine\n",
            "    export_engine(\n",
            "  File \"/content/gdrive/MyDrive/Colab Notebooks/TensorRT Colab Test/ultralytics/ultralytics/utils/export.py\", line 98, in export_engine\n",
            "    builder = trt.Builder(logger)\n",
            "              ^^^^^^^^^^^^^^^^^^^\n",
            "TypeError: pybind11::init(): factory function returned nullptr\n",
            "执行命令: !yolo export model=yolo11n.yaml format=engine half=True\n",
            "WARNING ⚠️ TensorRT requires GPU export, automatically assigning device=0\n",
            "Ultralytics 8.3.180 🚀 Python-3.12.11 torch-2.8.0+cu126 CUDA:0 (Tesla T4, 15095MiB)\n",
            "YOLO11n summary (fused): 100 layers, 2,616,248 parameters, 0 gradients, 6.48 GFLOPs\n",
            "\n",
            "\u001b[34m\u001b[1mPyTorch:\u001b[0m starting from 'yolo11n.yaml' with input shape (1, 3, 640, 640) BCHW and output shape(s) (1, 84, 8400) (0.0 MB)\n",
            "\n",
            "\u001b[34m\u001b[1mONNX:\u001b[0m starting export with onnx 1.17.0 opset 19...\n",
            "\u001b[34m\u001b[1mONNX:\u001b[0m slimming with onnxslim 0.1.65...\n",
            "\u001b[34m\u001b[1mONNX:\u001b[0m export success ✅ 2.4s, saved as 'yolo11n.onnx' (10.2 MB)\n",
            "\n",
            "\u001b[34m\u001b[1mTensorRT:\u001b[0m starting export with TensorRT 10.10.0.31...\n",
            "[08/31/2025-16:03:53] [TRT] [I] [MemUsageChange] Init CUDA: CPU -2, GPU +0, now: CPU 674, GPU 252 (MiB)\n",
            "[08/31/2025-16:03:54] [TRT] [E] createInferBuilder: Error Code 6: API Usage Error (Unable to load library: libnvinfer_builder_resource.so.10.10.0: libnvinfer_builder_resource.so.10.10.0: cannot open shared object file: No such file or directory)\n",
            "ERROR ❌ \u001b[34m\u001b[1mTensorRT:\u001b[0m export failure 2.9s: pybind11::init(): factory function returned nullptr\n",
            "Traceback (most recent call last):\n",
            "  File \"/usr/local/bin/yolo\", line 8, in <module>\n",
            "    sys.exit(entrypoint())\n",
            "             ^^^^^^^^^^^^\n",
            "  File \"/content/gdrive/MyDrive/Colab Notebooks/TensorRT Colab Test/ultralytics/ultralytics/cfg/__init__.py\", line 986, in entrypoint\n",
            "    getattr(model, mode)(**overrides)  # default args from model\n",
            "    ^^^^^^^^^^^^^^^^^^^^^^^^^^^^^^^^^\n",
            "  File \"/content/gdrive/MyDrive/Colab Notebooks/TensorRT Colab Test/ultralytics/ultralytics/engine/model.py\", line 734, in export\n",
            "    return Exporter(overrides=args, _callbacks=self.callbacks)(model=self.model)\n",
            "           ^^^^^^^^^^^^^^^^^^^^^^^^^^^^^^^^^^^^^^^^^^^^^^^^^^^^^^^^^^^^^^^^^^^^^\n",
            "  File \"/content/gdrive/MyDrive/Colab Notebooks/TensorRT Colab Test/ultralytics/ultralytics/engine/exporter.py\", line 488, in __call__\n",
            "    f[1], _ = self.export_engine(dla=dla)\n",
            "              ^^^^^^^^^^^^^^^^^^^^^^^^^^^\n",
            "  File \"/content/gdrive/MyDrive/Colab Notebooks/TensorRT Colab Test/ultralytics/ultralytics/engine/exporter.py\", line 199, in outer_func\n",
            "    raise e\n",
            "  File \"/content/gdrive/MyDrive/Colab Notebooks/TensorRT Colab Test/ultralytics/ultralytics/engine/exporter.py\", line 194, in outer_func\n",
            "    f, model = inner_func(*args, **kwargs)\n",
            "               ^^^^^^^^^^^^^^^^^^^^^^^^^^^\n",
            "  File \"/content/gdrive/MyDrive/Colab Notebooks/TensorRT Colab Test/ultralytics/ultralytics/engine/exporter.py\", line 931, in export_engine\n",
            "    export_engine(\n",
            "  File \"/content/gdrive/MyDrive/Colab Notebooks/TensorRT Colab Test/ultralytics/ultralytics/utils/export.py\", line 98, in export_engine\n",
            "    builder = trt.Builder(logger)\n",
            "              ^^^^^^^^^^^^^^^^^^^\n",
            "TypeError: pybind11::init(): factory function returned nullptr\n",
            "执行命令: !yolo export model=yolo12n.yaml format=engine half=True\n",
            "WARNING ⚠️ TensorRT requires GPU export, automatically assigning device=0\n",
            "Ultralytics 8.3.180 🚀 Python-3.12.11 torch-2.8.0+cu126 CUDA:0 (Tesla T4, 15095MiB)\n",
            "执行命令: !yolo export model=yolo142n.yaml format=engine half=True\n",
            "Traceback (most recent call last):\n",
            "  File \"/usr/local/bin/yolo\", line 5, in <module>\n",
            "    from ultralytics.cfg import entrypoint\n",
            "  File \"/content/gdrive/MyDrive/Colab Notebooks/TensorRT Colab Test/ultralytics/ultralytics/__init__.py\", line 11, in <module>\n",
            "  File \"/content/gdrive/MyDrive/Colab Notebooks/TensorRT Colab Test/ultralytics/ultralytics/models/__init__.py\", line 3, in <module>\n",
            "    from .fastsam import FastSAM\n",
            "  File \"/content/gdrive/MyDrive/Colab Notebooks/TensorRT Colab Test/ultralytics/ultralytics/models/fastsam/__init__.py\", line 3, in <module>\n",
            "    from .model import FastSAM\n",
            "  File \"/content/gdrive/MyDrive/Colab Notebooks/TensorRT Colab Test/ultralytics/ultralytics/models/fastsam/model.py\", line 6, in <module>\n",
            "    from ultralytics.engine.model import Model\n",
            "  File \"/content/gdrive/MyDrive/Colab Notebooks/TensorRT Colab Test/ultralytics/ultralytics/engine/model.py\", line 8, in <module>\n",
            "    import torch\n",
            "  File \"/usr/local/lib/python3.12/dist-packages/torch/__init__.py\", line 2264, in <module>\n",
            "    from torch import quantization as quantization  # usort: skip\n",
            "    ^^^^^^^^^^^^^^^^^^^^^^^^^^^^^^^^^^^^^^^^^^^^^^\n",
            "  File \"/usr/local/lib/python3.12/dist-packages/torch/quantization/__init__.py\", line 2, in <module>\n",
            "    from .fake_quantize import *  # noqa: F403\n",
            "    ^^^^^^^^^^^^^^^^^^^^^^^^^^^^\n",
            "  File \"/usr/local/lib/python3.12/dist-packages/torch/quantization/fake_quantize.py\", line 10, in <module>\n",
            "    from torch.ao.quantization.fake_quantize import (\n",
            "  File \"/usr/local/lib/python3.12/dist-packages/torch/ao/quantization/__init__.py\", line 12, in <module>\n",
            "    from .pt2e._numeric_debugger import (  # noqa: F401\n",
            "  File \"/usr/local/lib/python3.12/dist-packages/torch/ao/quantization/pt2e/_numeric_debugger.py\", line 248, in <module>\n",
            "    @dataclass(frozen=True)\n",
            "     ^^^^^^^^^^^^^^^^^^^^^^\n",
            "  File \"/usr/lib/python3.12/dataclasses.py\", line 1265, in wrap\n",
            "    return _process_class(cls, init, repr, eq, order, unsafe_hash,\n",
            "           ^^^^^^^^^^^^^^^^^^^^^^^^^^^^^^^^^^^^^^^^^^^^^^^^^^^^^^^\n",
            "  File \"/usr/lib/python3.12/dataclasses.py\", line 1063, in _process_class\n",
            "    _init_fn(all_init_fields,\n",
            "  File \"/usr/lib/python3.12/dataclasses.py\", line 619, in _init_fn\n",
            "    return _create_fn('__init__',\n",
            "           ^^^^^^^^^^^^^^^^^^^^^^\n",
            "  File \"/usr/lib/python3.12/dataclasses.py\", line 473, in _create_fn\n",
            "    exec(txt, globals, ns)\n",
            "  File \"<string>\", line 0, in <module>\n",
            "KeyboardInterrupt\n",
            "^C\n",
            "执行命令: !yolo export model=yolo145n.yaml format=engine half=True\n",
            "WARNING ⚠️ TensorRT requires GPU export, automatically assigning device=0\n",
            "Ultralytics 8.3.180 🚀 Python-3.12.11 torch-2.8.0+cu126 CUDA:0 (Tesla T4, 15095MiB)\n",
            "YOLO145n summary (fused): 136 layers, 2,700,864 parameters, 0 gradients, 6.29 GFLOPs\n",
            "\n",
            "\u001b[34m\u001b[1mPyTorch:\u001b[0m starting from 'yolo145n.yaml' with input shape (1, 3, 640, 640) BCHW and output shape(s) (1, 84, 8400) (0.0 MB)\n",
            "\n",
            "\u001b[34m\u001b[1mONNX:\u001b[0m starting export with onnx 1.17.0 opset 19...\n"
          ]
        }
      ]
    },
    {
      "cell_type": "markdown",
      "source": [
        "# 5. Python Usage\n",
        "\n",
        "YOLO11 was reimagined using Python-first principles for the most seamless Python YOLO experience yet. YOLO11 models can be loaded from a trained checkpoint or created from scratch. Then methods are used to train, val, predict, and export the model. See detailed Python usage examples in the [YOLO11 Python Docs](https://docs.ultralytics.com/usage/python/)."
      ],
      "metadata": {
        "id": "kUMOQ0OeDBJG"
      }
    },
    {
      "cell_type": "code",
      "source": [
        "import os\n",
        "os.environ['LD_LIBRARY_PATH'] = os.environ.get('LD_LIBRARY_PATH', '') + ':/content/gdrive/MyDrive/TensorRT-10.10.0.31/lib'\n",
        "print(os.environ['LD_LIBRARY_PATH'])\n",
        "from ultralytics import YOLO\n",
        "from ultralytics.utils.benchmarks import benchmark\n",
        "from ultralytics.utils.benchmarks import ProfileModels\n",
        "\n",
        "profiler = ProfileModels([\"yolo147n.onnx\"], imgsz=640)\n",
        "profiler.run()\n"
      ],
      "metadata": {
        "id": "bpF9-vS_DAaf",
        "colab": {
          "base_uri": "https://localhost:8080/"
        },
        "outputId": "783aaf80-ac32-4c8a-ad34-05c456ca681d"
      },
      "execution_count": 23,
      "outputs": [
        {
          "output_type": "stream",
          "name": "stdout",
          "text": [
            "/usr/local/lib/python3.12/dist-packages/cv2/../../lib64:/usr/lib64-nvidia:/content/lib:/content/gdrive/MyDrive/TensorRT-10.10.0.31/lib:/content/gdrive/MyDrive/TensorRT-10.10.0.31/lib:/content/gdrive/MyDrive/TensorRT-10.10.0.31/lib:/content/gdrive/MyDrive/TensorRT-10.10.0.31/lib:/content/gdrive/MyDrive/TensorRT-10.10.0.31/lib:/content/gdrive/MyDrive/TensorRT-10.10.0.31/lib:/content/gdrive/MyDrive/TensorRT-10.10.0.31/lib:/content/gdrive/MyDrive/TensorRT-10.10.0.31/lib:/content/gdrive/MyDrive/TensorRT-10.10.0.31/lib:/content/gdrive/MyDrive/TensorRT-10.10.0.31/lib:/content/gdrive/MyDrive/TensorRT-10.10.0.31/lib\n",
            "Ultralytics 8.3.180 🚀 Python-3.12.11 torch-2.8.0+cu126 CUDA:0 (Tesla T4, 15095MiB)\n",
            "Profiling: ['yolo147n.onnx']\n",
            "WARNING ⚠️ Unable to automatically guess model task, assuming 'task=detect'. Explicitly define task for your model, i.e. 'task=detect', 'segment', 'classify','pose' or 'obb'.\n",
            "Loading yolo147n.engine for TensorRT inference...\n"
          ]
        },
        {
          "output_type": "stream",
          "name": "stderr",
          "text": [
            "yolo147n.engine: 100%|██████████| 6864/6864 [00:39<00:00, 172.40it/s]"
          ]
        },
        {
          "output_type": "stream",
          "name": "stdout",
          "text": [
            "\u001b[31m\u001b[1mrequirements:\u001b[0m Ultralytics requirement ['onnxruntime'] not found, attempting AutoUpdate...\n"
          ]
        },
        {
          "output_type": "stream",
          "name": "stderr",
          "text": [
            "\n"
          ]
        },
        {
          "output_type": "stream",
          "name": "stdout",
          "text": [
            "\n",
            "\u001b[31m\u001b[1mrequirements:\u001b[0m AutoUpdate success ✅ 0.8s\n",
            "WARNING ⚠️ \u001b[31m\u001b[1mrequirements:\u001b[0m \u001b[1mRestart runtime or rerun command for updates to take effect\u001b[0m\n",
            "\n"
          ]
        },
        {
          "output_type": "stream",
          "name": "stderr",
          "text": [
            "yolo147n.onnx: 100%|██████████| 103/103 [01:11<00:00,  1.44it/s]"
          ]
        },
        {
          "output_type": "stream",
          "name": "stdout",
          "text": [
            "\n",
            "\n",
            "| Model | size<br><sup>(pixels) | mAP<sup>val<br>50-95 | Speed<br><sup>CPU (Intel Xeon 2.00GHz) ONNX<br>(ms) | Speed<br><sup>Tesla T4 TensorRT<br>(ms) | params<br><sup>(M) | FLOPs<br><sup>(B) |\n",
            "|-------|-----------------------|----------------------|-----------------------------------------------------|-----------------------------------------|--------------------|-------------------|\n",
            "| yolo147n           | 640 | - | 610.899±47.701 ms | 3.332±0.037 ms | 0.0 | 0.0 |\n"
          ]
        },
        {
          "output_type": "stream",
          "name": "stderr",
          "text": [
            "\n"
          ]
        },
        {
          "output_type": "execute_result",
          "data": {
            "text/plain": [
              "[{'model/name': 'yolo147n',\n",
              "  'model/parameters': 0.0,\n",
              "  'model/GFLOPs': 0.0,\n",
              "  'model/speed_ONNX(ms)': np.float64(610.899),\n",
              "  'model/speed_TensorRT(ms)': np.float64(3.332)}]"
            ]
          },
          "metadata": {},
          "execution_count": 23
        }
      ]
    }
  ]
}